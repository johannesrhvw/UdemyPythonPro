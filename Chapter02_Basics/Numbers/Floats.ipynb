{
 "cells": [
  {
   "cell_type": "markdown",
   "metadata": {},
   "source": [
    "## Imports\n"
   ]
  },
  {
   "cell_type": "code",
   "execution_count": 1,
   "metadata": {},
   "outputs": [],
   "source": [
    "import math\n",
    "import sys"
   ]
  },
  {
   "cell_type": "markdown",
   "metadata": {},
   "source": [
    "# Floats\n"
   ]
  },
  {
   "cell_type": "markdown",
   "metadata": {},
   "source": [
    "C, C++, Java etc.: Float (32bits/4Byte), Double (64bits=8Byte)\n",
    "\n",
    "Python: Float (64bits=8Byte)\n",
    "\n",
    "sign: 1bit  \n",
    "exponent: 11bits  \n",
    "significant bits: 52bits\n"
   ]
  },
  {
   "cell_type": "code",
   "execution_count": 2,
   "metadata": {},
   "outputs": [
    {
     "data": {
      "text/plain": [
       "24"
      ]
     },
     "execution_count": 2,
     "metadata": {},
     "output_type": "execute_result"
    }
   ],
   "source": [
    "my_value = 42.3\n",
    "\n",
    "sys.getsizeof(my_value)\n",
    "\n"
   ]
  },
  {
   "cell_type": "code",
   "execution_count": 3,
   "metadata": {},
   "outputs": [],
   "source": [
    "def float_print(value: float) -> None:\n",
    "    print(f\"{value:.32f}\")\n",
    "\n"
   ]
  },
  {
   "cell_type": "code",
   "execution_count": 4,
   "metadata": {},
   "outputs": [
    {
     "name": "stdout",
     "output_type": "stream",
     "text": [
      "42.3\n"
     ]
    }
   ],
   "source": [
    "print(my_value)"
   ]
  },
  {
   "cell_type": "code",
   "execution_count": 5,
   "metadata": {},
   "outputs": [
    {
     "name": "stdout",
     "output_type": "stream",
     "text": [
      "42.29999999999999715782905695959926\n"
     ]
    }
   ],
   "source": [
    "float_print(my_value)"
   ]
  },
  {
   "cell_type": "code",
   "execution_count": 6,
   "metadata": {},
   "outputs": [
    {
     "name": "stdout",
     "output_type": "stream",
     "text": [
      "42.10000000000000142108547152020037\n"
     ]
    }
   ],
   "source": [
    "my_value2 = 42.1\n",
    "float_print(my_value2)"
   ]
  },
  {
   "cell_type": "markdown",
   "metadata": {},
   "source": [
    "# Float equality\n"
   ]
  },
  {
   "cell_type": "code",
   "execution_count": 7,
   "metadata": {},
   "outputs": [
    {
     "name": "stdout",
     "output_type": "stream",
     "text": [
      "0.01000000000000000020816681711722\n"
     ]
    }
   ],
   "source": [
    "my_fraction = 1 / 100\n",
    "float_print(my_fraction)"
   ]
  },
  {
   "cell_type": "code",
   "execution_count": 8,
   "metadata": {},
   "outputs": [
    {
     "name": "stdout",
     "output_type": "stream",
     "text": [
      "0.30000000000000004440892098500626\n"
     ]
    }
   ],
   "source": [
    "my_fraction2 = 1 / 10 + 1 / 10 + 1 / 10\n",
    "float_print(my_fraction2)"
   ]
  },
  {
   "cell_type": "code",
   "execution_count": 9,
   "metadata": {},
   "outputs": [
    {
     "name": "stdout",
     "output_type": "stream",
     "text": [
      "0.29999999999999998889776975374843\n"
     ]
    }
   ],
   "source": [
    "my_fraction3 = 0.3\n",
    "float_print(my_fraction3)"
   ]
  },
  {
   "cell_type": "code",
   "execution_count": 11,
   "metadata": {},
   "outputs": [
    {
     "data": {
      "text/plain": [
       "False"
      ]
     },
     "execution_count": 11,
     "metadata": {},
     "output_type": "execute_result"
    }
   ],
   "source": [
    "bool(my_fraction2 == my_fraction3)"
   ]
  },
  {
   "cell_type": "code",
   "execution_count": 10,
   "metadata": {},
   "outputs": [
    {
     "data": {
      "text/plain": [
       "5.551115123125783e-17"
      ]
     },
     "execution_count": 10,
     "metadata": {},
     "output_type": "execute_result"
    }
   ],
   "source": [
    "float(0.30000000000000004440892098500626 - 0.29999999999999998889776975374843)\n",
    "\n"
   ]
  },
  {
   "cell_type": "code",
   "execution_count": 11,
   "metadata": {},
   "outputs": [],
   "source": [
    "def float_is_equal(\n",
    "    x: float,\n",
    "    y: float,\n",
    ") -> float:\n",
    "    epsilon = 1e-15\n",
    "    difference = math.fabs(x - y)\n",
    "    return difference < epsilon\n",
    "\n"
   ]
  },
  {
   "cell_type": "code",
   "execution_count": 12,
   "metadata": {},
   "outputs": [
    {
     "name": "stdout",
     "output_type": "stream",
     "text": [
      "0.00000000000000100000000000000008\n"
     ]
    }
   ],
   "source": [
    "epsilon = 1e-15\n",
    "print(f\"{epsilon:.32f}\")"
   ]
  },
  {
   "cell_type": "code",
   "execution_count": 13,
   "metadata": {},
   "outputs": [
    {
     "data": {
      "text/plain": [
       "True"
      ]
     },
     "execution_count": 13,
     "metadata": {},
     "output_type": "execute_result"
    }
   ],
   "source": [
    "float_is_equal(\n",
    "    my_fraction2,\n",
    "    my_fraction3,\n",
    ")"
   ]
  },
  {
   "cell_type": "code",
   "execution_count": 14,
   "metadata": {},
   "outputs": [
    {
     "data": {
      "text/plain": [
       "True"
      ]
     },
     "execution_count": 14,
     "metadata": {},
     "output_type": "execute_result"
    }
   ],
   "source": [
    "math.isclose(\n",
    "    my_fraction2,\n",
    "    my_fraction3,\n",
    "    abs_tol=1e-15,\n",
    "    rel_tol=1e-09,\n",
    ")"
   ]
  },
  {
   "cell_type": "markdown",
   "metadata": {},
   "source": [
    "# Float Rounding\n"
   ]
  },
  {
   "cell_type": "code",
   "execution_count": 15,
   "metadata": {},
   "outputs": [
    {
     "name": "stdout",
     "output_type": "stream",
     "text": [
      "42.42424242420000268793955910950899\n"
     ]
    }
   ],
   "source": [
    "my_float = 42.4242424242\n",
    "float_print(my_float)"
   ]
  },
  {
   "cell_type": "code",
   "execution_count": 16,
   "metadata": {},
   "outputs": [
    {
     "name": "stdout",
     "output_type": "stream",
     "text": [
      "42.00000000000000000000000000000000\n"
     ]
    }
   ],
   "source": [
    "my_float_rounded = round(my_float)\n",
    "float_print(my_float_rounded)"
   ]
  },
  {
   "cell_type": "code",
   "execution_count": 17,
   "metadata": {},
   "outputs": [
    {
     "name": "stdout",
     "output_type": "stream",
     "text": [
      "42.42419999999999902229319559410214\n",
      "42.4242\n"
     ]
    }
   ],
   "source": [
    "my_float_rounded2 = round(my_float, 4)\n",
    "float_print(my_float_rounded2)\n",
    "print(my_float_rounded2)"
   ]
  },
  {
   "cell_type": "code",
   "execution_count": 18,
   "metadata": {},
   "outputs": [
    {
     "name": "stdout",
     "output_type": "stream",
     "text": [
      "40.00000000000000000000000000000000\n"
     ]
    }
   ],
   "source": [
    "my_float_rounded3 = round(my_float, -1)\n",
    "float_print(my_float_rounded3)"
   ]
  },
  {
   "cell_type": "code",
   "execution_count": 19,
   "metadata": {},
   "outputs": [
    {
     "name": "stdout",
     "output_type": "stream",
     "text": [
      "440.00000000000000000000000000000000\n"
     ]
    }
   ],
   "source": [
    "my_float_rounded3 = round(444.45, -1)\n",
    "float_print(my_float_rounded3)"
   ]
  },
  {
   "cell_type": "code",
   "execution_count": 22,
   "metadata": {},
   "outputs": [
    {
     "name": "stdout",
     "output_type": "stream",
     "text": [
      "400.00000000000000000000000000000000\n"
     ]
    }
   ],
   "source": [
    "my_float_rounded3 = round(444.45, -2)\n",
    "float_print(my_float_rounded3)"
   ]
  },
  {
   "cell_type": "code",
   "execution_count": 23,
   "metadata": {},
   "outputs": [
    {
     "name": "stdout",
     "output_type": "stream",
     "text": [
      "0.00000000000000000000000000000000\n"
     ]
    }
   ],
   "source": [
    "my_float_rounded3 = round(444.45, -3)\n",
    "float_print(my_float_rounded3)"
   ]
  }
 ],
 "metadata": {
  "interpreter": {
   "hash": "ef4ce19910938c421491e84375c43d450a079a1a865d40a0bc82f335363ab876"
  },
  "kernelspec": {
   "display_name": "Python 3.10.4 ('pyUdemy')",
   "language": "python",
   "name": "python3"
  },
  "language_info": {
   "codemirror_mode": {
    "name": "ipython",
    "version": 3
   },
   "file_extension": ".py",
   "mimetype": "text/x-python",
   "name": "python",
   "nbconvert_exporter": "python",
   "pygments_lexer": "ipython3",
   "version": "3.11.8"
  },
  "orig_nbformat": 4
 },
 "nbformat": 4,
 "nbformat_minor": 2
}
