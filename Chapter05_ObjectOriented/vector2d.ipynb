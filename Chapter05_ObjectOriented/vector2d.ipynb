{
 "cells": [
  {
   "cell_type": "markdown",
   "metadata": {},
   "source": [
    "### Vector 2D Class"
   ]
  },
  {
   "cell_type": "code",
   "execution_count": 1,
   "metadata": {},
   "outputs": [],
   "source": [
    "from functools import total_ordering\n",
    "from math import sqrt\n",
    "\n"
   ]
  },
  {
   "cell_type": "code",
   "execution_count": 2,
   "metadata": {},
   "outputs": [],
   "source": [
    "@total_ordering\n",
    "class Vector2D:\n",
    "    def __init__(self, x=0.0, y=0.0):\n",
    "        self.x = x\n",
    "        self.y = y\n",
    "\n",
    "    def __call__(self):\n",
    "        print(\"Calling the __call__ method!\")\n",
    "\n",
    "    def __repr__(self):\n",
    "        return f\"vector.Vector2D({self.x}, {self.y})\"\n",
    "\n",
    "    def __str__(self):\n",
    "        return f\"({self.x}, {self.y})\"\n",
    "\n",
    "    def __abs__(self):\n",
    "        return sqrt(pow(self.x, 2) + pow(self.y, 2))\n",
    "\n",
    "    def __eq__(self, other_vector):\n",
    "        return self.x == other_vector.x and self.y == other_vector.y\n",
    "\n",
    "    def __lt__(self, other_vector):\n",
    "        return abs(self) < abs(other_vector)\n",
    "\n",
    "    def __add__(self, other_vector):\n",
    "        x = self.x + other_vector.x\n",
    "        y = self.y + other_vector.y\n",
    "        return Vector2D(x, y)\n",
    "\n",
    "    def __sub__(self, other_vector):\n",
    "        x = self.x - other_vector.x\n",
    "        y = self.y - other_vector.y\n",
    "        return Vector2D(x, y)\n",
    "\n",
    "    def __mul__(self, other):\n",
    "        if isinstance(other, Vector2D):\n",
    "            return self.x * other.x + self.y * other.y\n",
    "        return Vector2D(self.x * other, self.y * other)\n",
    "\n",
    "    def __truediv__(self, other):\n",
    "        return Vector2D(self.x / other, self.y / other)\n",
    "\n"
   ]
  },
  {
   "cell_type": "code",
   "execution_count": 3,
   "metadata": {},
   "outputs": [],
   "source": [
    "v1 = Vector2D(-1, -1)\n",
    "v2 = Vector2D(1, 1)"
   ]
  },
  {
   "cell_type": "code",
   "execution_count": 4,
   "metadata": {},
   "outputs": [
    {
     "name": "stdout",
     "output_type": "stream",
     "text": [
      "vector.Vector2D(-1, -1)\n",
      "(-1, -1)\n",
      "vector.Vector2D(1, 1)\n",
      "(1, 1)\n"
     ]
    }
   ],
   "source": [
    "print(repr(v1))\n",
    "print(str(v1))\n",
    "\n",
    "print(repr(v2))\n",
    "print(str(v2))"
   ]
  },
  {
   "cell_type": "code",
   "execution_count": 27,
   "metadata": {},
   "outputs": [
    {
     "name": "stdout",
     "output_type": "stream",
     "text": [
      "(0, 0)\n",
      "(-2, -2)\n",
      "-2\n",
      "(-0.2, -0.2)\n"
     ]
    }
   ],
   "source": [
    "print(v1 + v2)\n",
    "print(v1 - v2)\n",
    "print(v1 * v2)\n",
    "print(v1 / 5.0)"
   ]
  },
  {
   "cell_type": "code",
   "execution_count": 28,
   "metadata": {},
   "outputs": [
    {
     "name": "stdout",
     "output_type": "stream",
     "text": [
      "False\n",
      "True\n",
      "False\n",
      "True\n"
     ]
    }
   ],
   "source": [
    "print(v1 < v2)\n",
    "print(v1 > v2)\n",
    "print(v1 == v2)\n",
    "print(v1 != v2)"
   ]
  }
 ],
 "metadata": {
  "file_extension": ".py",
  "interpreter": {
   "hash": "ef4ce19910938c421491e84375c43d450a079a1a865d40a0bc82f335363ab876"
  },
  "kernelspec": {
   "display_name": "Python 3.10.4 ('pyUdemy')",
   "language": "python",
   "name": "python3"
  },
  "language_info": {
   "codemirror_mode": {
    "name": "ipython",
    "version": 3
   },
   "file_extension": ".py",
   "mimetype": "text/x-python",
   "name": "python",
   "nbconvert_exporter": "python",
   "pygments_lexer": "ipython3",
   "version": "3.11.8"
  },
  "mimetype": "text/x-python",
  "name": "python",
  "npconvert_exporter": "python",
  "orig_nbformat": 2,
  "pygments_lexer": "ipython3",
  "version": 3
 },
 "nbformat": 4,
 "nbformat_minor": 2
}
